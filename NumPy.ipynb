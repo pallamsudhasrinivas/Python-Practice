{
 "cells": [
  {
   "cell_type": "markdown",
   "metadata": {},
   "source": [
    "### Numpy Practice"
   ]
  },
  {
   "cell_type": "markdown",
   "metadata": {},
   "source": [
    "### Numpy Basics "
   ]
  },
  {
   "cell_type": "markdown",
   "metadata": {},
   "source": [
    "### Arrays"
   ]
  },
  {
   "cell_type": "code",
   "execution_count": 2,
   "metadata": {},
   "outputs": [],
   "source": [
    "import numpy as np"
   ]
  },
  {
   "cell_type": "code",
   "execution_count": 9,
   "metadata": {},
   "outputs": [
    {
     "name": "stdout",
     "output_type": "stream",
     "text": [
      "1.18.1\n"
     ]
    }
   ],
   "source": [
    "print(np.__version__)"
   ]
  },
  {
   "cell_type": "code",
   "execution_count": 12,
   "metadata": {},
   "outputs": [
    {
     "name": "stdout",
     "output_type": "stream",
     "text": [
      "blas_mkl_info:\n",
      "    libraries = ['mkl_rt']\n",
      "    library_dirs = ['C:/Users/Sudhakar/anaconda3\\\\Library\\\\lib']\n",
      "    define_macros = [('SCIPY_MKL_H', None), ('HAVE_CBLAS', None)]\n",
      "    include_dirs = ['C:\\\\Program Files (x86)\\\\IntelSWTools\\\\compilers_and_libraries_2019.0.117\\\\windows\\\\mkl', 'C:\\\\Program Files (x86)\\\\IntelSWTools\\\\compilers_and_libraries_2019.0.117\\\\windows\\\\mkl\\\\include', 'C:\\\\Program Files (x86)\\\\IntelSWTools\\\\compilers_and_libraries_2019.0.117\\\\windows\\\\mkl\\\\lib', 'C:/Users/Sudhakar/anaconda3\\\\Library\\\\include']\n",
      "blas_opt_info:\n",
      "    libraries = ['mkl_rt']\n",
      "    library_dirs = ['C:/Users/Sudhakar/anaconda3\\\\Library\\\\lib']\n",
      "    define_macros = [('SCIPY_MKL_H', None), ('HAVE_CBLAS', None)]\n",
      "    include_dirs = ['C:\\\\Program Files (x86)\\\\IntelSWTools\\\\compilers_and_libraries_2019.0.117\\\\windows\\\\mkl', 'C:\\\\Program Files (x86)\\\\IntelSWTools\\\\compilers_and_libraries_2019.0.117\\\\windows\\\\mkl\\\\include', 'C:\\\\Program Files (x86)\\\\IntelSWTools\\\\compilers_and_libraries_2019.0.117\\\\windows\\\\mkl\\\\lib', 'C:/Users/Sudhakar/anaconda3\\\\Library\\\\include']\n",
      "lapack_mkl_info:\n",
      "    libraries = ['mkl_rt']\n",
      "    library_dirs = ['C:/Users/Sudhakar/anaconda3\\\\Library\\\\lib']\n",
      "    define_macros = [('SCIPY_MKL_H', None), ('HAVE_CBLAS', None)]\n",
      "    include_dirs = ['C:\\\\Program Files (x86)\\\\IntelSWTools\\\\compilers_and_libraries_2019.0.117\\\\windows\\\\mkl', 'C:\\\\Program Files (x86)\\\\IntelSWTools\\\\compilers_and_libraries_2019.0.117\\\\windows\\\\mkl\\\\include', 'C:\\\\Program Files (x86)\\\\IntelSWTools\\\\compilers_and_libraries_2019.0.117\\\\windows\\\\mkl\\\\lib', 'C:/Users/Sudhakar/anaconda3\\\\Library\\\\include']\n",
      "lapack_opt_info:\n",
      "    libraries = ['mkl_rt']\n",
      "    library_dirs = ['C:/Users/Sudhakar/anaconda3\\\\Library\\\\lib']\n",
      "    define_macros = [('SCIPY_MKL_H', None), ('HAVE_CBLAS', None)]\n",
      "    include_dirs = ['C:\\\\Program Files (x86)\\\\IntelSWTools\\\\compilers_and_libraries_2019.0.117\\\\windows\\\\mkl', 'C:\\\\Program Files (x86)\\\\IntelSWTools\\\\compilers_and_libraries_2019.0.117\\\\windows\\\\mkl\\\\include', 'C:\\\\Program Files (x86)\\\\IntelSWTools\\\\compilers_and_libraries_2019.0.117\\\\windows\\\\mkl\\\\lib', 'C:/Users/Sudhakar/anaconda3\\\\Library\\\\include']\n",
      "None\n"
     ]
    }
   ],
   "source": [
    "print(np.show_config())"
   ]
  },
  {
   "cell_type": "code",
   "execution_count": 15,
   "metadata": {},
   "outputs": [
    {
     "name": "stdout",
     "output_type": "stream",
     "text": [
      " all(*args, **kwargs)\n",
      "\n",
      "Test whether all array elements along a given axis evaluate to True.\n",
      "\n",
      "Parameters\n",
      "----------\n",
      "a : array_like\n",
      "    Input array or object that can be converted to an array.\n",
      "axis : None or int or tuple of ints, optional\n",
      "    Axis or axes along which a logical AND reduction is performed.\n",
      "    The default (``axis=None``) is to perform a logical AND over all\n",
      "    the dimensions of the input array. `axis` may be negative, in\n",
      "    which case it counts from the last to the first axis.\n",
      "\n",
      "    .. versionadded:: 1.7.0\n",
      "\n",
      "    If this is a tuple of ints, a reduction is performed on multiple\n",
      "    axes, instead of a single axis or all the axes as before.\n",
      "out : ndarray, optional\n",
      "    Alternate output array in which to place the result.\n",
      "    It must have the same shape as the expected output and its\n",
      "    type is preserved (e.g., if ``dtype(out)`` is float, the result\n",
      "    will consist of 0.0's and 1.0's). See `ufuncs-output-type` for more\n",
      "    details.\n",
      "\n",
      "keepdims : bool, optional\n",
      "    If this is set to True, the axes which are reduced are left\n",
      "    in the result as dimensions with size one. With this option,\n",
      "    the result will broadcast correctly against the input array.\n",
      "\n",
      "    If the default value is passed, then `keepdims` will not be\n",
      "    passed through to the `all` method of sub-classes of\n",
      "    `ndarray`, however any non-default value will be.  If the\n",
      "    sub-class' method does not implement `keepdims` any\n",
      "    exceptions will be raised.\n",
      "\n",
      "Returns\n",
      "-------\n",
      "all : ndarray, bool\n",
      "    A new boolean or array is returned unless `out` is specified,\n",
      "    in which case a reference to `out` is returned.\n",
      "\n",
      "See Also\n",
      "--------\n",
      "ndarray.all : equivalent method\n",
      "\n",
      "any : Test whether any element along a given axis evaluates to True.\n",
      "\n",
      "Notes\n",
      "-----\n",
      "Not a Number (NaN), positive infinity and negative infinity\n",
      "evaluate to `True` because these are not equal to zero.\n",
      "\n",
      "Examples\n",
      "--------\n",
      ">>> np.all([[True,False],[True,True]])\n",
      "False\n",
      "\n",
      ">>> np.all([[True,False],[True,True]], axis=0)\n",
      "array([ True, False])\n",
      "\n",
      ">>> np.all([-1, 4, 5])\n",
      "True\n",
      "\n",
      ">>> np.all([1.0, np.nan])\n",
      "True\n",
      "\n",
      ">>> o=np.array(False)\n",
      ">>> z=np.all([-1, 4, 5], out=o)\n",
      ">>> id(z), id(o), z\n",
      "(28293632, 28293632, array(True)) # may vary\n"
     ]
    }
   ],
   "source": [
    "#info give the information of method wit sample\n",
    "np.info(np.all)"
   ]
  },
  {
   "cell_type": "code",
   "execution_count": 24,
   "metadata": {},
   "outputs": [
    {
     "name": "stdout",
     "output_type": "stream",
     "text": [
      "No zero in array:  True\n",
      "No zero in array:  False\n"
     ]
    }
   ],
   "source": [
    "#Find if none of the elements in an array is zero. All method returns True if there is no zero else False\n",
    "nonzero_arr = np.array([1,2,3])\n",
    "print(\"No zero in array: \",np.all(nonzero_arr))\n",
    "nonzero_arr = np.array([1,2,3,0])\n",
    "print(\"No zero in array: \",np.all(nonzero_arr))"
   ]
  },
  {
   "cell_type": "code",
   "execution_count": 25,
   "metadata": {},
   "outputs": [
    {
     "name": "stdout",
     "output_type": "stream",
     "text": [
      "non-zero in array : True\n",
      "non-zero in array: False\n"
     ]
    }
   ],
   "source": [
    "#Find if none of the elements in an array is nonzero. Any method returns True if there are no non-zero else False\n",
    "zero_array = np.array([1,0,0,0])\n",
    "print(\"non-zero in array :\",np.any(zero_array))\n",
    "zero_array = np.array([0,0,0,0])\n",
    "print(\"non-zero in array:\",np.any(zero_array))"
   ]
  },
  {
   "cell_type": "code",
   "execution_count": 26,
   "metadata": {},
   "outputs": [
    {
     "name": "stdout",
     "output_type": "stream",
     "text": [
      "[1 2 4]\n"
     ]
    }
   ],
   "source": [
    "arr = np.array([1,2,4])\n",
    "print(arr)"
   ]
  },
  {
   "cell_type": "code",
   "execution_count": 29,
   "metadata": {},
   "outputs": [
    {
     "name": "stdout",
     "output_type": "stream",
     "text": [
      "[[1 2 3]\n",
      " [4 5 6]\n",
      " [7 8 9]]\n",
      "int32\n"
     ]
    }
   ],
   "source": [
    "arr = np.array([[1,2,3],[4,5,6],[7,8,9]])\n",
    "print(arr)\n",
    "print(arr.dtype)"
   ]
  },
  {
   "cell_type": "code",
   "execution_count": 31,
   "metadata": {},
   "outputs": [
    {
     "name": "stdout",
     "output_type": "stream",
     "text": [
      "[[1 2 3]\n",
      " [3 4 5]\n",
      " [7 8 9]]\n"
     ]
    }
   ],
   "source": [
    "#Create a 3*3 array using list_1 = [1,2,3] list_2 = [4,5,6] list_3 = [7,8,9]\n",
    "list_1=[1,2,3]\n",
    "list_2=[3,4,5]\n",
    "list_3=[7,8,9]\n",
    "list_arr = np.array([list_1,list_2,list_3])\n",
    "print(list_arr)"
   ]
  },
  {
   "cell_type": "code",
   "execution_count": 37,
   "metadata": {},
   "outputs": [
    {
     "name": "stdout",
     "output_type": "stream",
     "text": [
      "[5, 12, 21, 32]\n",
      "[ 5 12 21 32]\n"
     ]
    }
   ],
   "source": [
    "#product of 2 mist using lambda \n",
    "list_1 = [1,2,3,4]\n",
    "list_2 = [5,6,7,8]\n",
    "\n",
    "product_list = list(map(lambda x,y : x*y, list_1,list_2))\n",
    "print(product_list)\n",
    "\n",
    "#Same can be done using numpy \n",
    "arr_1 = np.array(list_1)\n",
    "arr_2 = np.array(list_2)\n",
    "\n",
    "pro_numpy_array = arr_1*arr_2\n",
    "print(pro_numpy_array)\n"
   ]
  },
  {
   "cell_type": "code",
   "execution_count": 48,
   "metadata": {},
   "outputs": [
    {
     "name": "stdout",
     "output_type": "stream",
     "text": [
      "[14, 24, 36, 30]\n",
      "[ 9 11 13 11]\n",
      "[5 5 5 1]\n",
      "[0.28571429 0.375      0.44444444 0.83333333]\n",
      "[49 64 81 36]\n"
     ]
    }
   ],
   "source": [
    "#Perform an element-wise multiplication using list_1 = [2,3,4,5] list_2 = [7,8,9,6] and obtain the output as a list. \n",
    "#Hint: Convert the list to an array and after multiplication convert it back to a list.\n",
    "\n",
    "list_1 = [2,3,4,5]\n",
    "list_2 = [7,8,9,6]\n",
    "\n",
    "arr_1 = np.array(list_1)\n",
    "arr_2 = np.array(list_2)\n",
    "\n",
    "pro_array = arr_1*arr_2\n",
    "print(list(pro_array))\n",
    "\n",
    "add_array = arr_1+arr_2\n",
    "print(add_array)\n",
    "\n",
    "sub_array = arr_2-arr_1\n",
    "print(sub_array)\n",
    "\n",
    "div_array = arr_1/arr_2\n",
    "print(div_array)\n",
    "\n",
    "sqr_array = arr_2**2\n",
    "print(sqr_array)\n",
    "\n",
    "#Note : while binary operation both the array size should be equal"
   ]
  },
  {
   "cell_type": "markdown",
   "metadata": {},
   "source": [
    "### NumPy Arrays using predefined functions "
   ]
  },
  {
   "cell_type": "markdown",
   "metadata": {},
   "source": [
    "The following ways are commonly used:\n",
    "\n",
    "<b>np.ones()</b>: Create an array of 1s\n",
    "\n",
    "<b>np.zeros()</b>: Create an array of 0s\n",
    "\n",
    "<b>np.random.random()</b>: Create an array of random numbers between 0 and 1\n",
    "\n",
    "<b>np.arange()</b>: Create an array with increments of a fixed step size\n",
    "\n",
    "<b>np.linspace()</b>: Create an array of fixed length"
   ]
  },
  {
   "cell_type": "code",
   "execution_count": 70,
   "metadata": {},
   "outputs": [
    {
     "data": {
      "text/plain": [
       "array([[1, 1],\n",
       "       [1, 1],\n",
       "       [1, 1]])"
      ]
     },
     "execution_count": 70,
     "metadata": {},
     "output_type": "execute_result"
    }
   ],
   "source": [
    "#3 rows 2 cols (3x2 matrix)\n",
    "#Default generates was float/decimal 1's to make it spect to int we should specify it as dtype in syntax \n",
    "np.ones((3,2), dtype = np.int)\n"
   ]
  },
  {
   "cell_type": "code",
   "execution_count": 71,
   "metadata": {},
   "outputs": [
    {
     "data": {
      "text/plain": [
       "array([[0, 0, 0, 0, 0],\n",
       "       [0, 0, 0, 0, 0]])"
      ]
     },
     "execution_count": 71,
     "metadata": {},
     "output_type": "execute_result"
    }
   ],
   "source": [
    "#Default generates was float/decimal 0's to make it spect to int we should specify it as dtype in syntax \n",
    "np.zeros([2,5], dtype = int)\n"
   ]
  },
  {
   "cell_type": "code",
   "execution_count": 74,
   "metadata": {},
   "outputs": [
    {
     "data": {
      "text/plain": [
       "array([[0.33144249, 0.96362018, 0.9304364 , 0.73833508],\n",
       "       [0.49332924, 0.73724712, 0.59431884, 0.98320091],\n",
       "       [0.23345755, 0.24880034, 0.54313521, 0.29372687]])"
      ]
     },
     "execution_count": 74,
     "metadata": {},
     "output_type": "execute_result"
    }
   ],
   "source": [
    "np.random.random([3,4])"
   ]
  },
  {
   "cell_type": "code",
   "execution_count": 78,
   "metadata": {},
   "outputs": [
    {
     "name": "stdout",
     "output_type": "stream",
     "text": [
      "[10 15 20 25 30 35 40 45 50 55 60 65 70 75 80 85 90 95]\n"
     ]
    }
   ],
   "source": [
    "#generates numbers starting from 10 to 100 with interval of 5 \n",
    "numbers = np.arange(10, 100, 5)\n",
    "print(numbers)"
   ]
  },
  {
   "cell_type": "code",
   "execution_count": 85,
   "metadata": {},
   "outputs": [
    {
     "ename": "TypeError",
     "evalue": "_linspace_dispatcher() missing 1 required positional argument: 'stop'",
     "output_type": "error",
     "traceback": [
      "\u001b[1;31m---------------------------------------------------------------------------\u001b[0m",
      "\u001b[1;31mTypeError\u001b[0m                                 Traceback (most recent call last)",
      "\u001b[1;32m<ipython-input-85-1e51ab8e5ff9>\u001b[0m in \u001b[0;36m<module>\u001b[1;34m\u001b[0m\n\u001b[0;32m      1\u001b[0m \u001b[1;31m#creates an array\u001b[0m\u001b[1;33m\u001b[0m\u001b[1;33m\u001b[0m\u001b[1;33m\u001b[0m\u001b[0m\n\u001b[1;32m----> 2\u001b[1;33m \u001b[0mnp\u001b[0m\u001b[1;33m.\u001b[0m\u001b[0mlinspace\u001b[0m\u001b[1;33m(\u001b[0m\u001b[1;33m(\u001b[0m\u001b[1;36m10\u001b[0m\u001b[1;33m,\u001b[0m\u001b[1;36m100\u001b[0m\u001b[1;33m,\u001b[0m\u001b[1;36m10\u001b[0m\u001b[1;33m)\u001b[0m\u001b[1;33m,\u001b[0m\u001b[0mdtype\u001b[0m\u001b[1;33m=\u001b[0m\u001b[0mint\u001b[0m\u001b[1;33m)\u001b[0m\u001b[1;33m\u001b[0m\u001b[1;33m\u001b[0m\u001b[0m\n\u001b[0m",
      "\u001b[1;32m<__array_function__ internals>\u001b[0m in \u001b[0;36mlinspace\u001b[1;34m(*args, **kwargs)\u001b[0m\n",
      "\u001b[1;31mTypeError\u001b[0m: _linspace_dispatcher() missing 1 required positional argument: 'stop'"
     ]
    }
   ],
   "source": [
    "#creates an array \n",
    "np.linspace((10,100,10))\n"
   ]
  },
  {
   "cell_type": "markdown",
   "metadata": {},
   "source": [
    "Apart from the functions mentioned in the video, there are a few more useful functions for creating arrays, such as: \n",
    "\n",
    "<b>np.full()</b>: Create a constant array of any number ‘n’\n",
    "\n",
    "<b>np.tile()</b>: Create a new array — by repeating an existing array — for a particular number of times\n",
    "\n",
    "<b>np.eye()</b>: Create an identity matrix of any dimension\n",
    "\n",
    "<b>np.random.randint()</b>: Create a random array of integers within a particular range"
   ]
  },
  {
   "cell_type": "code",
   "execution_count": 88,
   "metadata": {},
   "outputs": [
    {
     "data": {
      "text/plain": [
       "array([[5, 5, 5, 5],\n",
       "       [5, 5, 5, 5],\n",
       "       [5, 5, 5, 5]])"
      ]
     },
     "execution_count": 88,
     "metadata": {},
     "output_type": "execute_result"
    }
   ],
   "source": [
    "\n",
    "int_x = 5\n",
    "rows_m = 3\n",
    "cols_n = 4\n",
    "\n",
    "np.full((rows_m,cols_n),int_x)"
   ]
  },
  {
   "cell_type": "code",
   "execution_count": 89,
   "metadata": {},
   "outputs": [
    {
     "data": {
      "text/plain": [
       "array([[5, 5, 5, 5],\n",
       "       [5, 5, 5, 5],\n",
       "       [5, 5, 5, 5]])"
      ]
     },
     "execution_count": 89,
     "metadata": {},
     "output_type": "execute_result"
    }
   ],
   "source": [
    "np.tile(int_x,(rows_m,cols_n))"
   ]
  },
  {
   "cell_type": "code",
   "execution_count": 90,
   "metadata": {},
   "outputs": [
    {
     "data": {
      "text/plain": [
       "array([ 5, 10, 15, 20, 25, 30, 35, 40, 45, 50])"
      ]
     },
     "execution_count": 90,
     "metadata": {},
     "output_type": "execute_result"
    }
   ],
   "source": [
    "#Create an array of first 10 multiples of 5 using the 'arange' function.\n",
    "np.arange(5,55,5)"
   ]
  },
  {
   "cell_type": "code",
   "execution_count": 105,
   "metadata": {},
   "outputs": [
    {
     "data": {
      "text/plain": [
       "(2, 2)"
      ]
     },
     "execution_count": 105,
     "metadata": {},
     "output_type": "execute_result"
    }
   ],
   "source": [
    "#Given an even integer ‘n’, create an ‘n*n’ checkerboard matrix with the values 0 and 1, using the tile function.\n",
    "arr = np.array([[0,1],[1,0]])\n",
    "n = 5\n",
    "np.tile(arr,(n//2,n//2))\n"
   ]
  },
  {
   "cell_type": "markdown",
   "metadata": {},
   "source": [
    "### Structure and Content of Arrays\n",
    "It is helpful to inspect the structure of NumPy arrays, especially while working with large arrays. Some attributes of \n",
    "\n",
    "NumPy arrays are:\n",
    "\n",
    "<b>shape</b>: Shape of array (n x m)\n",
    "\n",
    "<b>dtype</b>: data type (int, float etc.)\n",
    "\n",
    "<b>ndim</b>: Number of dimensions (or axes)\n",
    "\n",
    "<b>itemsize</b>: Memory used by each array element in bytes"
   ]
  },
  {
   "cell_type": "code",
   "execution_count": 104,
   "metadata": {},
   "outputs": [
    {
     "data": {
      "text/plain": [
       "<function numpy.shape(a)>"
      ]
     },
     "execution_count": 104,
     "metadata": {},
     "output_type": "execute_result"
    }
   ],
   "source": [
    "np.shape"
   ]
  },
  {
   "cell_type": "code",
   "execution_count": 114,
   "metadata": {},
   "outputs": [
    {
     "name": "stdout",
     "output_type": "stream",
     "text": [
      "[0.96770297 0.25937925 0.8310909  0.04983466 0.03810899 0.06848779\n",
      " 0.55213602 0.46875592 0.95029683 0.38754819 0.48333623 0.09841486\n",
      " 0.65992024 0.33276816 0.24316488 0.46455224 0.98860465 0.53015661\n",
      " 0.86113555 0.38547692 0.96582436 0.81274246 0.60139005 0.67915756\n",
      " 0.73150237 0.29228247 0.84295568 0.56008202 0.00419409 0.08078103\n",
      " 0.85693261 0.09470668 0.25330274 0.85629814 0.8499982  0.25404984\n",
      " 0.99393892 0.58124631 0.1764314  0.09094848 0.9137605  0.96955142\n",
      " 0.73991509 0.12975993 0.46194577 0.42113696 0.26924458 0.24470065\n",
      " 0.62993128 0.10190214 0.96617672 0.59006935 0.92524533 0.86162588\n",
      " 0.85947724 0.5373102  0.43994585 0.58954266 0.659758   0.29550629\n",
      " 0.92763562 0.87087146 0.38380607 0.37192802 0.34591648 0.97825693\n",
      " 0.73103861 0.76882833 0.92728076 0.73243933 0.30957521 0.96676483\n",
      " 0.24215321 0.94786489 0.70798634 0.36948216 0.71416321 0.00251104\n",
      " 0.50558312 0.57150785 0.45281286 0.8852426  0.17288996 0.51581665\n",
      " 0.1484497  0.87997837 0.26480311 0.58107254 0.24677535 0.59008962\n",
      " 0.80739945 0.55234348 0.30396558 0.87111886 0.35460181 0.1187403\n",
      " 0.71855064 0.16586208 0.98421287 0.20536402 0.31824229 0.35284492\n",
      " 0.77133764 0.7857184  0.40103801 0.09051449 0.67002738 0.2333666\n",
      " 0.49378047 0.22223861 0.35683891 0.78202714 0.96640892 0.33915638\n",
      " 0.55590676 0.76924837 0.04719685 0.69071737 0.65493368 0.87856943\n",
      " 0.7980063  0.95620024 0.04060719 0.22364185 0.25997594 0.99158451\n",
      " 0.2955909  0.84034637 0.85770723 0.75923278 0.28232515 0.55678411\n",
      " 0.34504091 0.6753936  0.24428425 0.68906291 0.78226936 0.18708187\n",
      " 0.28320911 0.1253076  0.16443341 0.20224909 0.9255777  0.19940609\n",
      " 0.4104602  0.36411353 0.10222719 0.21099548 0.68221369 0.87083306\n",
      " 0.52567416 0.60547859 0.25423253 0.00554156 0.56674906 0.22303763\n",
      " 0.668817   0.15119199 0.58515411 0.71669304 0.43761335 0.60361722\n",
      " 0.29639203 0.45854397 0.61844822 0.67704126 0.3530092  0.547485\n",
      " 0.14578291 0.05837869 0.64543123 0.30480601 0.05654957 0.93726195\n",
      " 0.99040137 0.403733   0.84935485 0.57274609 0.98998834 0.47907063\n",
      " 0.81218957 0.90876687 0.67361717 0.99047005 0.1369426  0.68787126\n",
      " 0.63824254 0.93261191 0.29515476 0.50283341 0.06086109 0.04131004\n",
      " 0.2715834  0.0879355  0.59296567 0.83064871 0.45147061 0.27315414\n",
      " 0.90894603 0.52638789 0.81460295 0.2227406  0.68370154 0.08309201\n",
      " 0.74142653 0.33837726 0.15992571 0.94997446 0.61401195 0.27214573\n",
      " 0.1123771  0.77510197 0.90466672 0.32333125 0.11197453 0.58257744\n",
      " 0.63801264 0.33181726 0.9831343  0.08086598 0.55801838 0.2231138\n",
      " 0.01509829 0.9615484  0.8031259  0.75935166 0.28989837 0.93348017\n",
      " 0.32586776 0.36496895 0.97515861 0.59544814 0.39111062 0.19781329\n",
      " 0.87594111 0.49526911 0.60835972 0.39552718 0.18097738 0.84896277\n",
      " 0.23718101 0.18100278 0.34164468 0.91068889 0.90623009 0.27208617\n",
      " 0.71076463 0.30924631 0.87789008 0.35051443 0.45153849 0.78198088\n",
      " 0.83935407 0.05760667 0.9434761  0.16214818 0.78921881 0.97763259\n",
      " 0.1472008  0.8811165  0.96975714 0.40898271 0.23610144 0.56962397\n",
      " 0.44864737 0.83697014 0.93845246 0.83276512 0.61934153 0.46085433\n",
      " 0.754405   0.06678153 0.99475512 0.70411573 0.43227554 0.75486561\n",
      " 0.34462311 0.92632221 0.16148295 0.87892132 0.60998955 0.43902479\n",
      " 0.29338195 0.75323478 0.56945376 0.07945124 0.28484261 0.80057185\n",
      " 0.94962952 0.2280174  0.88889998 0.92929889 0.24696688 0.56811843\n",
      " 0.60526062 0.75577816 0.67749006 0.20640817 0.77962399 0.84590981]\n"
     ]
    }
   ],
   "source": [
    "rand_array = np.random.random([1000,300])\n",
    "print(rand_array[1])"
   ]
  },
  {
   "cell_type": "code",
   "execution_count": 110,
   "metadata": {},
   "outputs": [
    {
     "data": {
      "text/plain": [
       "(1000, 300)"
      ]
     },
     "execution_count": 110,
     "metadata": {},
     "output_type": "execute_result"
    }
   ],
   "source": [
    "rand_array.shape"
   ]
  },
  {
   "cell_type": "code",
   "execution_count": 115,
   "metadata": {},
   "outputs": [
    {
     "data": {
      "text/plain": [
       "2"
      ]
     },
     "execution_count": 115,
     "metadata": {},
     "output_type": "execute_result"
    }
   ],
   "source": [
    "rand_array.ndim"
   ]
  },
  {
   "cell_type": "code",
   "execution_count": 116,
   "metadata": {},
   "outputs": [
    {
     "data": {
      "text/plain": [
       "dtype('float64')"
      ]
     },
     "execution_count": 116,
     "metadata": {},
     "output_type": "execute_result"
    }
   ],
   "source": [
    "rand_array.dtype"
   ]
  },
  {
   "cell_type": "code",
   "execution_count": 117,
   "metadata": {},
   "outputs": [
    {
     "data": {
      "text/plain": [
       "8"
      ]
     },
     "execution_count": 117,
     "metadata": {},
     "output_type": "execute_result"
    }
   ],
   "source": [
    "rand_array.itemsize"
   ]
  },
  {
   "cell_type": "code",
   "execution_count": 119,
   "metadata": {},
   "outputs": [
    {
     "name": "stdout",
     "output_type": "stream",
     "text": [
      "[[[ 0  1  2  3]\n",
      "  [ 4  5  6  7]\n",
      "  [ 8  9 10 11]]\n",
      "\n",
      " [[12 13 14 15]\n",
      "  [16 17 18 19]\n",
      "  [20 21 22 23]]]\n"
     ]
    }
   ],
   "source": [
    "#3d Array \n",
    "array_3d = np.arange(24).reshape(2,3,4)\n",
    "print(array_3d)"
   ]
  },
  {
   "cell_type": "code",
   "execution_count": 120,
   "metadata": {},
   "outputs": [],
   "source": [
    "#Create an array using list list_1 = [10,11,12,13] and list_2 = [15,12,13,14] and print the shape and dimension of the array created."
   ]
  },
  {
   "cell_type": "markdown",
   "metadata": {},
   "source": [
    "### Subset, Slice, Index and Iterate through Arrays\n",
    "Let's now look at how to access the elements of an array. For one-dimensional arrays, indexing, slicing etc. is similar to python lists - indexing starts at 0."
   ]
  },
  {
   "cell_type": "code",
   "execution_count": 131,
   "metadata": {},
   "outputs": [
    {
     "name": "stdout",
     "output_type": "stream",
     "text": [
      "[1 2 3 4 5 6 7 8 9]\n"
     ]
    }
   ],
   "source": [
    "array_1 = np.arange(1,10)\n",
    "print(array_1)"
   ]
  },
  {
   "cell_type": "code",
   "execution_count": 132,
   "metadata": {},
   "outputs": [
    {
     "data": {
      "text/plain": [
       "3"
      ]
     },
     "execution_count": 132,
     "metadata": {},
     "output_type": "execute_result"
    }
   ],
   "source": [
    "array_1[2]"
   ]
  },
  {
   "cell_type": "code",
   "execution_count": 133,
   "metadata": {},
   "outputs": [
    {
     "data": {
      "text/plain": [
       "array([2, 3, 4, 5])"
      ]
     },
     "execution_count": 133,
     "metadata": {},
     "output_type": "execute_result"
    }
   ],
   "source": [
    "array_1[1:5]"
   ]
  },
  {
   "cell_type": "code",
   "execution_count": 134,
   "metadata": {},
   "outputs": [
    {
     "data": {
      "text/plain": [
       "array([3, 4, 5, 6, 7, 8, 9])"
      ]
     },
     "execution_count": 134,
     "metadata": {},
     "output_type": "execute_result"
    }
   ],
   "source": [
    "array_1[2:]"
   ]
  },
  {
   "cell_type": "code",
   "execution_count": 135,
   "metadata": {},
   "outputs": [
    {
     "data": {
      "text/plain": [
       "array([1, 2, 3])"
      ]
     },
     "execution_count": 135,
     "metadata": {},
     "output_type": "execute_result"
    }
   ],
   "source": [
    "array_1[:3]"
   ]
  },
  {
   "cell_type": "code",
   "execution_count": 138,
   "metadata": {},
   "outputs": [
    {
     "data": {
      "text/plain": [
       "array([2, 4, 6, 8])"
      ]
     },
     "execution_count": 138,
     "metadata": {},
     "output_type": "execute_result"
    }
   ],
   "source": [
    "array_1[1::2]"
   ]
  },
  {
   "cell_type": "markdown",
   "metadata": {},
   "source": [
    "### Multidimensional Arrays\n",
    "Multidimensional arrays are indexed using as many indices as the number of dimensions or axes. For instance, to index a 2-D array, you need two indices - array[x, y]."
   ]
  },
  {
   "cell_type": "code",
   "execution_count": 153,
   "metadata": {},
   "outputs": [
    {
     "name": "stdout",
     "output_type": "stream",
     "text": [
      "[[1 2 3 4]\n",
      " [5 6 7 8]\n",
      " [2 4 6 8]]\n"
     ]
    }
   ],
   "source": [
    "array_2d = np.array([[1,2,3,4],[5,6,7,8],[2,4,6,8]])\n",
    "print(array_2d)"
   ]
  },
  {
   "cell_type": "code",
   "execution_count": 148,
   "metadata": {},
   "outputs": [
    {
     "data": {
      "text/plain": [
       "array([2, 4, 6, 8])"
      ]
     },
     "execution_count": 148,
     "metadata": {},
     "output_type": "execute_result"
    }
   ],
   "source": [
    "array_2d[2,:]"
   ]
  },
  {
   "cell_type": "code",
   "execution_count": 149,
   "metadata": {},
   "outputs": [
    {
     "data": {
      "text/plain": [
       "array([4, 8, 8])"
      ]
     },
     "execution_count": 149,
     "metadata": {},
     "output_type": "execute_result"
    }
   ],
   "source": [
    "array_2d[:,3]"
   ]
  },
  {
   "cell_type": "code",
   "execution_count": 158,
   "metadata": {},
   "outputs": [
    {
     "data": {
      "text/plain": [
       "array([[6, 8]])"
      ]
     },
     "execution_count": 158,
     "metadata": {},
     "output_type": "execute_result"
    }
   ],
   "source": [
    "array_2d[2:,2:]"
   ]
  },
  {
   "cell_type": "code",
   "execution_count": 161,
   "metadata": {},
   "outputs": [
    {
     "data": {
      "text/plain": [
       "array([1, 2, 3, 4])"
      ]
     },
     "execution_count": 161,
     "metadata": {},
     "output_type": "execute_result"
    }
   ],
   "source": []
  },
  {
   "cell_type": "code",
   "execution_count": 187,
   "metadata": {},
   "outputs": [
    {
     "name": "stdout",
     "output_type": "stream",
     "text": [
      "[1 5 2]\n",
      "[1 2 3 4]\n",
      "[4 8 8]\n",
      "[2 4 6 8]\n"
     ]
    }
   ],
   "source": [
    "#Four NumPy arrays - First column of the input array, first row of the input array, last column of the input array, \n",
    "#last row of the input array respectively.\n",
    "\n",
    "#first column\n",
    "print(array_2d[:,0])\n",
    "\n",
    "#first row\n",
    "print(array_2d[0,])\n",
    "\n",
    "#last column\n",
    "print(array_2d[:,3])\n",
    "\n",
    "#last row\n",
    "print(array_2d[2,])"
   ]
  },
  {
   "cell_type": "markdown",
   "metadata": {},
   "source": [
    "### Operations on NumPy Arrays\n",
    "\n",
    "The learning objectives of this section are:\n",
    "\n",
    "Manipulate arrays\n",
    "\n",
    "Reshape arrays\n",
    "\n",
    "Stack arrays\n",
    "\n",
    "Perform operations on arrays\n",
    "\n",
    "Perform basic mathematical operations\n",
    "\n",
    "Apply built-in functions\n",
    "\n",
    "Apply your own functions\n",
    "\n",
    "Apply basic linear algebra operations"
   ]
  },
  {
   "cell_type": "markdown",
   "metadata": {},
   "source": [
    "### Manipulating Arrays\n",
    "\n",
    "Let's look at some ways to manipulate arrays, i.e. changing the shape, combining and splitting arrays, etc.   \n",
    "\n",
    "#### Reshaping Arrays\n",
    "\n",
    "Reshaping is done using the ```reshape()``` function.\n"
   ]
  },
  {
   "cell_type": "code",
   "execution_count": 192,
   "metadata": {},
   "outputs": [
    {
     "data": {
      "text/plain": [
       "array([[ 1,  2,  3,  4],\n",
       "       [ 5,  6,  7,  8],\n",
       "       [ 9, 10, 11, 12]])"
      ]
     },
     "execution_count": 192,
     "metadata": {},
     "output_type": "execute_result"
    }
   ],
   "source": [
    "arr = np.arange(1,13).reshape(3,4)"
   ]
  },
  {
   "cell_type": "code",
   "execution_count": 195,
   "metadata": {},
   "outputs": [
    {
     "ename": "ValueError",
     "evalue": "cannot reshape array of size 4 into shape (2,6)",
     "output_type": "error",
     "traceback": [
      "\u001b[1;31m---------------------------------------------------------------------------\u001b[0m",
      "\u001b[1;31mValueError\u001b[0m                                Traceback (most recent call last)",
      "\u001b[1;32m<ipython-input-195-8a7d04ae16fd>\u001b[0m in \u001b[0;36m<module>\u001b[1;34m\u001b[0m\n\u001b[1;32m----> 1\u001b[1;33m \u001b[0marr\u001b[0m\u001b[1;33m.\u001b[0m\u001b[0mreshape\u001b[0m\u001b[1;33m(\u001b[0m\u001b[1;36m2\u001b[0m\u001b[1;33m,\u001b[0m\u001b[1;36m6\u001b[0m\u001b[1;33m)\u001b[0m\u001b[1;33m\u001b[0m\u001b[1;33m\u001b[0m\u001b[0m\n\u001b[0m",
      "\u001b[1;31mValueError\u001b[0m: cannot reshape array of size 4 into shape (2,6)"
     ]
    }
   ],
   "source": [
    "arr.reshape(2,6)"
   ]
  },
  {
   "cell_type": "code",
   "execution_count": null,
   "metadata": {},
   "outputs": [],
   "source": []
  }
 ],
 "metadata": {
  "kernelspec": {
   "display_name": "Python 3",
   "language": "python",
   "name": "python3"
  },
  "language_info": {
   "codemirror_mode": {
    "name": "ipython",
    "version": 3
   },
   "file_extension": ".py",
   "mimetype": "text/x-python",
   "name": "python",
   "nbconvert_exporter": "python",
   "pygments_lexer": "ipython3",
   "version": "3.7.6"
  }
 },
 "nbformat": 4,
 "nbformat_minor": 4
}
