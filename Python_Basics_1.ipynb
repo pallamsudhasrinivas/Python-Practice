{
 "cells": [
  {
   "cell_type": "markdown",
   "metadata": {},
   "source": [
    "# Python Basics"
   ]
  },
  {
   "cell_type": "markdown",
   "metadata": {},
   "source": [
    "While learning any programming I always start learning it with Hello world!! :) "
   ]
  },
  {
   "cell_type": "code",
   "execution_count": 2,
   "metadata": {},
   "outputs": [
    {
     "name": "stdout",
     "output_type": "stream",
     "text": [
      "Hello World !!\n"
     ]
    }
   ],
   "source": [
    "print(\"Hello World !!\")"
   ]
  },
  {
   "cell_type": "markdown",
   "metadata": {},
   "source": [
    "Features of Python:\n",
    "\n",
    "    1) High Level interpreter launguage \n",
    "    2) Platform Independent \n",
    "    3) Simple to understand and learn \n",
    "    4) Open Source \n",
    "    5) GUI Programming\n",
    "    6) Object Oriented Structure\n",
    "    7) Pre-build Libraries\n",
    "    "
   ]
  },
  {
   "cell_type": "markdown",
   "metadata": {},
   "source": [
    "### Programming in Jupyter"
   ]
  },
  {
   "cell_type": "markdown",
   "metadata": {},
   "source": [
    "1) The Main advantage of using Jupyter Notebook is that we can write both codes and normal text in the notebooks\n",
    "\n",
    "2) These notebooks are easy to read and share, and can even be used to present our work to others\n"
   ]
  },
  {
   "cell_type": "markdown",
   "metadata": {},
   "source": [
    "### Programming in Python"
   ]
  },
  {
   "cell_type": "markdown",
   "metadata": {},
   "source": [
    "### 1) Variables\n",
    "### 2) Data Types\n",
    "### 3) Operators\n",
    "### 4) Conditions\n",
    "### 5) Loops\n"
   ]
  },
  {
   "cell_type": "markdown",
   "metadata": {},
   "source": [
    "## 1) Variables:"
   ]
  },
  {
   "cell_type": "markdown",
   "metadata": {},
   "source": [
    "### Variables are reserved memory locations to store values "
   ]
  },
  {
   "cell_type": "markdown",
   "metadata": {},
   "source": [
    "### a) Data types\n",
    "        Build in datatypes\n",
    "        Integer, Floating Point, String, Boolean values"
   ]
  },
  {
   "cell_type": "code",
   "execution_count": 9,
   "metadata": {},
   "outputs": [
    {
     "name": "stdout",
     "output_type": "stream",
     "text": [
      "<class 'str'>\n",
      "<class 'int'>\n",
      "<class 'float'>\n",
      "<class 'bool'>\n"
     ]
    }
   ],
   "source": [
    "a = 'Sudhasrinivas'\n",
    "print( type(a))\n",
    "\n",
    "b = 10\n",
    "print( type(b))\n",
    "\n",
    "c = 10.0\n",
    "print( type(c))\n",
    "\n",
    "d= True \n",
    "print(type(d))\n",
    "\n"
   ]
  },
  {
   "cell_type": "markdown",
   "metadata": {},
   "source": [
    "### b) Data Structures\n",
    "        Lists, Dictionary & Tuples"
   ]
  },
  {
   "cell_type": "code",
   "execution_count": 13,
   "metadata": {},
   "outputs": [
    {
     "name": "stdout",
     "output_type": "stream",
     "text": [
      "<class 'list'>\n",
      "<class 'dict'>\n",
      "<class 'tuple'>\n"
     ]
    }
   ],
   "source": [
    "#List is equivalent to list in Java\n",
    "list = [1,2,3]\n",
    "print(type(list))\n",
    "\n",
    "#Dictonary is equivalent to Map in Java\n",
    "dict = {1:\"sudha\", 2:\"Machine Learning\"}\n",
    "print(type(dict))\n",
    "\n",
    "#Tuple is equivalent to Set in Java\n",
    "tuple = (1,2,3)\n",
    "print(type(tuple))"
   ]
  },
  {
   "cell_type": "markdown",
   "metadata": {},
   "source": [
    "### c) Data types conversions or typecasting\n",
    "        Data from one type can be converted into another type using conversion operator\n",
    "        int(variable)   - converts variable to integer \n",
    "        str(variable)   - converts variable to string\n",
    "        float(variable) - converts varaible to float\n"
   ]
  },
  {
   "cell_type": "code",
   "execution_count": 14,
   "metadata": {},
   "outputs": [
    {
     "name": "stdout",
     "output_type": "stream",
     "text": [
      "<class 'str'>\n",
      "<class 'int'>\n"
     ]
    }
   ],
   "source": [
    "#Number as string can be converted to int \n",
    "a = '20'\n",
    "print(type(a))\n",
    "b - int(a)\n",
    "print(type(b))"
   ]
  },
  {
   "cell_type": "code",
   "execution_count": 15,
   "metadata": {},
   "outputs": [
    {
     "ename": "ValueError",
     "evalue": "invalid literal for int() with base 10: 'sudha'",
     "output_type": "error",
     "traceback": [
      "\u001b[1;31m---------------------------------------------------------------------------\u001b[0m",
      "\u001b[1;31mValueError\u001b[0m                                Traceback (most recent call last)",
      "\u001b[1;32m<ipython-input-15-3e19b116a668>\u001b[0m in \u001b[0;36m<module>\u001b[1;34m\u001b[0m\n\u001b[0;32m      1\u001b[0m \u001b[0maa\u001b[0m \u001b[1;33m=\u001b[0m \u001b[1;34m\"sudha\"\u001b[0m\u001b[1;33m\u001b[0m\u001b[1;33m\u001b[0m\u001b[0m\n\u001b[1;32m----> 2\u001b[1;33m \u001b[0mprint\u001b[0m\u001b[1;33m(\u001b[0m\u001b[0mtype\u001b[0m\u001b[1;33m(\u001b[0m\u001b[0mint\u001b[0m\u001b[1;33m(\u001b[0m\u001b[0maa\u001b[0m\u001b[1;33m)\u001b[0m\u001b[1;33m)\u001b[0m\u001b[1;33m)\u001b[0m\u001b[1;33m\u001b[0m\u001b[1;33m\u001b[0m\u001b[0m\n\u001b[0m",
      "\u001b[1;31mValueError\u001b[0m: invalid literal for int() with base 10: 'sudha'"
     ]
    }
   ],
   "source": [
    "#String value cant be converted in to int, t raises a error\n",
    "aa = \"sudha\"\n",
    "print(type(int(aa)))"
   ]
  },
  {
   "cell_type": "code",
   "execution_count": 24,
   "metadata": {},
   "outputs": [
    {
     "name": "stdout",
     "output_type": "stream",
     "text": [
      "True\n",
      "<class 'bool'>\n",
      "True\n",
      "False\n"
     ]
    }
   ],
   "source": [
    "#String to boolean all strings will be True\n",
    "s = \"a\"\n",
    "print(bool(s))\n",
    "print(type(bool(s)))\n",
    "\n",
    "#number 1 as True\n",
    "print(bool(1))\n",
    "\n",
    "#number 0 as False\n",
    "print(bool(0))"
   ]
  },
  {
   "cell_type": "code",
   "execution_count": 25,
   "metadata": {},
   "outputs": [
    {
     "data": {
      "text/plain": [
       "True"
      ]
     },
     "execution_count": 25,
     "metadata": {},
     "output_type": "execute_result"
    }
   ],
   "source": [
    "2*3 == 6"
   ]
  },
  {
   "cell_type": "markdown",
   "metadata": {},
   "source": [
    "## Strings"
   ]
  },
  {
   "cell_type": "markdown",
   "metadata": {},
   "source": [
    "1) Subsets of strings can be taken using <b>slice operator ([] and [:])</b> with indexes starting at 0 in the begining of the string and working their way from -1 at the end\n",
    "\n",
    "2) Substring  from [start: end], if end is empty means till end of the string\n",
    "\n",
    "3) [4] gives the character in the string\n",
    "\n",
    "4) String in Python is <b>Immutable</b>. Unlike other datasets such as lists, you cannot manipulate the individual string values. In order to do so, you have to take subsets of strings and form a new string \n",
    "\n",
    "5) A string can be converted to a numerical type and vice versa. Many a times, raw data althrough numeric is coded in string format. This feature provides a clean way to make sure all of the data is a numeric form \n",
    "\n",
    "6) String and numbers can also be formatted"
   ]
  },
  {
   "cell_type": "code",
   "execution_count": 39,
   "metadata": {},
   "outputs": [
    {
     "name": "stdout",
     "output_type": "stream",
     "text": [
      "hasrinivas\n",
      "allam\n"
     ]
    }
   ],
   "source": [
    "st = \"Sudhasrinivas\"\n",
    "print(st[3:])\n",
    "st = \"Pallam\"\n",
    "print(st[1:])"
   ]
  },
  {
   "cell_type": "markdown",
   "metadata": {},
   "source": [
    "### String concetination"
   ]
  },
  {
   "cell_type": "code",
   "execution_count": 42,
   "metadata": {},
   "outputs": [
    {
     "name": "stdout",
     "output_type": "stream",
     "text": [
      "Sudhasrinivas Pallam\n",
      "Sudhasrinivas*Pallam\n"
     ]
    }
   ],
   "source": [
    "first_name = \"Sudhasrinivas\" \n",
    "last_name = \"Pallam\"\n",
    "print(first_name+\" \"+last_name)\n",
    "print(\" \".join([first_name, last_name]))"
   ]
  },
  {
   "cell_type": "markdown",
   "metadata": {},
   "source": [
    "### Print formating with strings"
   ]
  },
  {
   "cell_type": "code",
   "execution_count": 45,
   "metadata": {},
   "outputs": [
    {
     "name": "stdout",
     "output_type": "stream",
     "text": [
      "I am sudhasrinivas, 30 years old\n"
     ]
    }
   ],
   "source": [
    "age = 30 \n",
    "name = \"sudhasrinivas\"\n",
    "my_age = \"I am {1}, {0} years old\".format(age,name) \n",
    "print(my_age)"
   ]
  },
  {
   "cell_type": "markdown",
   "metadata": {},
   "source": [
    "### Skipping "
   ]
  },
  {
   "cell_type": "code",
   "execution_count": 54,
   "metadata": {},
   "outputs": [
    {
     "name": "stdout",
     "output_type": "stream",
     "text": [
      "2468\n"
     ]
    }
   ],
   "source": [
    "nums = \"12345678\"\n",
    "even_num = nums[1::2]\n",
    "# starts from 2nd position and skip to every 2nd place after that\n",
    "print(even_num)\n"
   ]
  },
  {
   "cell_type": "markdown",
   "metadata": {},
   "source": [
    "### String Methods and functions"
   ]
  },
  {
   "cell_type": "code",
   "execution_count": 61,
   "metadata": {},
   "outputs": [
    {
     "name": "stdout",
     "output_type": "stream",
     "text": [
      "14\n",
      "1\n",
      "['This', 'is', 'Python']\n",
      "THIS IS PYTHON\n",
      "this is python\n",
      "tHIS IS pYTHON\n"
     ]
    }
   ],
   "source": [
    "Stri = \"This is Python\"\n",
    "print(len(Stri))\n",
    "print(Stri.count('y'))\n",
    "print(Stri.split(' '))\n",
    "print(Stri.upper())\n",
    "print(Stri.lower())\n",
    "print(Stri.swapcase())"
   ]
  },
  {
   "cell_type": "code",
   "execution_count": 65,
   "metadata": {},
   "outputs": [
    {
     "name": "stdout",
     "output_type": "stream",
     "text": [
      "This is sample sentence for removing spaces   \n",
      "   This is sample sentence for removing spaces\n",
      "This is sample sentence for removing spaces\n"
     ]
    }
   ],
   "source": [
    "space_string = \"   This is sample sentence for removing spaces   \"\n",
    "print(space_string.lstrip())\n",
    "print(space_string.rstrip())\n",
    "print(space_string.strip())"
   ]
  },
  {
   "cell_type": "code",
   "execution_count": 66,
   "metadata": {},
   "outputs": [
    {
     "name": "stdout",
     "output_type": "stream",
     "text": [
      "There is space at the start\n"
     ]
    }
   ],
   "source": [
    "start = '     There is space at the start'\n",
    "print(start.strip())"
   ]
  },
  {
   "cell_type": "markdown",
   "metadata": {},
   "source": [
    "## Data Structures"
   ]
  },
  {
   "cell_type": "markdown",
   "metadata": {},
   "source": [
    "Lists, Dictionary, Tuple"
   ]
  },
  {
   "cell_type": "markdown",
   "metadata": {},
   "source": [
    "### Lists"
   ]
  },
  {
   "cell_type": "markdown",
   "metadata": {},
   "source": [
    "1) A list contains items seperated by commas and enclosed within []\n",
    "\n",
    "2) All the items belonging to a list can be of <b>different data types</b>\n",
    "\n",
    "3) The <b>plus(+)</b> sign is the list concentration operator, and the <b>astreak (*)</b> is the repetitor operation"
   ]
  },
  {
   "cell_type": "code",
   "execution_count": 70,
   "metadata": {},
   "outputs": [
    {
     "name": "stdout",
     "output_type": "stream",
     "text": [
      "['Managers', 'are', 'the', 'next']\n",
      "['are', 'the']\n"
     ]
    }
   ],
   "source": [
    "list1 = ['Managers','are', 'the', 'next']\n",
    "print(list1)\n",
    "print(list1[1:3])"
   ]
  },
  {
   "cell_type": "code",
   "execution_count": 89,
   "metadata": {},
   "outputs": [
    {
     "name": "stdout",
     "output_type": "stream",
     "text": [
      "[1, 2, 3, 4, 5, 6, 5, 6, 7, 8, 9, 3]\n",
      "[1, 2, 3, 4, 5, 6, 5, 6, 7, 8, 9, 3, 100]\n",
      "[1, 2, 500, 3, 4, 5, 6, 5, 6, 7, 8, 9, 3, 100]\n",
      "[1, 500, 3, 4, 5, 6, 5, 6, 7, 8, 9, 3, 100]\n",
      "[1, 500, 3, 4, 5, 6, 5, 6, 7, 8, 9, 3]\n",
      "[1, 3, 3, 4, 5, 5, 6, 6, 7, 8, 9, 500]\n",
      "500\n",
      "1\n",
      "[3, 9, 8, 7, 6, 5, 6, 5, 4, 3, 500, 1]\n"
     ]
    }
   ],
   "source": [
    "list1 = [1,2,3,4,5,6]\n",
    "list2 = [5,6,7,8,9,3]\n",
    "\n",
    "#concatinate 2 list to single list\n",
    "list_con = list1+list2\n",
    "print(list_con)\n",
    "\n",
    "#Adds an element at last\n",
    "list_con.append(100)\n",
    "print(list_con)\n",
    "\n",
    "#Adds an element at 2nd index of the list\n",
    "list_con.insert(2,500)\n",
    "print(list_con)\n",
    "\n",
    "#removes a element 2 if in the list else throws error\n",
    "list_con.remove(2)\n",
    "print(list_con)\n",
    "\n",
    "#pops out the last element in the list\n",
    "list_con.pop()\n",
    "print(list_con)\n",
    "\n",
    "#sort the list\n",
    "print(sorted(list_con, reverse=False))\n",
    "\n",
    "#Max num in the list\n",
    "print(max(list_con))\n",
    "\n",
    "#Min num in the list\n",
    "print(min(list_con))\n",
    "list_con.reverse()\n",
    "print(list_con)"
   ]
  },
  {
   "cell_type": "code",
   "execution_count": 94,
   "metadata": {},
   "outputs": [
    {
     "name": "stdout",
     "output_type": "stream",
     "text": [
      "[5, 6, 7]\n",
      "3\n",
      "[[1, 2, 3, 4], [5, 6, 7]]\n"
     ]
    }
   ],
   "source": [
    "nest = [[1, 2, 3, 4], [ 5, 6, 7], [8, 9, 10]]\n",
    "\n",
    "print(nest[1])\n",
    "print(nest[0][2])\n",
    "print(nest[:2])"
   ]
  },
  {
   "cell_type": "markdown",
   "metadata": {},
   "source": [
    "## Tuple\n",
    "    \n",
    "     Tuple is a sequence of immutable Python objects "
   ]
  },
  {
   "cell_type": "code",
   "execution_count": 96,
   "metadata": {},
   "outputs": [
    {
     "name": "stdout",
     "output_type": "stream",
     "text": [
      "('Sudha', 35, 'Srinivas', 10.2)\n",
      "Srinivas\n"
     ]
    }
   ],
   "source": [
    "first_tuple = (\"Sudha\", 35, \"Srinivas\", 10.2)\n",
    "print(first_tuple)\n",
    "print(first_tuple[2])"
   ]
  },
  {
   "cell_type": "markdown",
   "metadata": {},
   "source": [
    "## Dictionary\n",
    "\n",
    "+ One of the most important built-in data structure.\n",
    "+ List vs. Dictionary\n",
    "+ Mapping of words with their synonyms or meanings.\n",
    "+ They work like associative arrays and consist of <font color='red'><b>key-value pairs</b></font> (Indexed with Keys). \n",
    "+ A dictionary key can be almost any Python type, but are usually numbers or strings. \n",
    "+ Values, on the other hand, can be any arbitrary Python object.\n",
    "+ Dictionaries are enclosed by <b>curly braces ( { } )</b> and values can be assigned and accessed using <b>square braces ( [] )</b>."
   ]
  },
  {
   "cell_type": "code",
   "execution_count": 98,
   "metadata": {},
   "outputs": [
    {
     "name": "stdout",
     "output_type": "stream",
     "text": [
      "{'Name': 'Bob Marley', 'Age': 35, 'Height': '5.6 ft', 'Hobby': 'Music'}\n"
     ]
    }
   ],
   "source": [
    "bio_data = {'Name': 'Bob Marley', 'Age': 35, 'Height':'5.6 ft', 'Hobby': 'Music'}\n",
    "print(bio_data)"
   ]
  },
  {
   "cell_type": "code",
   "execution_count": 99,
   "metadata": {},
   "outputs": [
    {
     "name": "stdout",
     "output_type": "stream",
     "text": [
      "{'UserA': 'wkliopnc', 'UserB': 98760, 'UserC': 98760}\n"
     ]
    }
   ],
   "source": [
    "credentials = { 'UserA' : 'wkliopnc' , 'UserB': 98760 , 'UserC' :98760 } \n",
    "print(credentials)"
   ]
  },
  {
   "cell_type": "code",
   "execution_count": 103,
   "metadata": {},
   "outputs": [
    {
     "name": "stdout",
     "output_type": "stream",
     "text": [
      "dict_keys(['Name', 'Age', 'Height', 'Hobby'])\n",
      "dict_values(['Bob Marley', 35, '5.6 ft', 'Music'])\n"
     ]
    }
   ],
   "source": [
    "#get list of keys\n",
    "print(bio_data.keys())\n",
    "\n",
    "#get list of values\n",
    "print(bio_data.values())"
   ]
  },
  {
   "cell_type": "code",
   "execution_count": 106,
   "metadata": {},
   "outputs": [
    {
     "ename": "TypeError",
     "evalue": "'dict' object is not callable",
     "output_type": "error",
     "traceback": [
      "\u001b[1;31m---------------------------------------------------------------------------\u001b[0m",
      "\u001b[1;31mTypeError\u001b[0m                                 Traceback (most recent call last)",
      "\u001b[1;32m<ipython-input-106-dd88616aac92>\u001b[0m in \u001b[0;36m<module>\u001b[1;34m\u001b[0m\n\u001b[1;32m----> 1\u001b[1;33m \u001b[0mnew_dictionary\u001b[0m \u001b[1;33m=\u001b[0m \u001b[0mdict\u001b[0m\u001b[1;33m(\u001b[0m\u001b[0mHeight\u001b[0m \u001b[1;33m=\u001b[0m \u001b[1;34m'5ft'\u001b[0m\u001b[1;33m,\u001b[0m \u001b[0mCountry\u001b[0m\u001b[1;33m=\u001b[0m\u001b[1;34m'Jamaica'\u001b[0m\u001b[1;33m,\u001b[0m \u001b[0mSongs\u001b[0m\u001b[1;33m=\u001b[0m\u001b[1;33m[\u001b[0m\u001b[1;34m'One Love'\u001b[0m\u001b[1;33m,\u001b[0m\u001b[1;34m'Misty Morning'\u001b[0m\u001b[1;33m]\u001b[0m\u001b[1;33m)\u001b[0m\u001b[1;33m\u001b[0m\u001b[1;33m\u001b[0m\u001b[0m\n\u001b[0m\u001b[0;32m      2\u001b[0m \u001b[0mprint\u001b[0m\u001b[1;33m(\u001b[0m\u001b[0mnew_dictionary\u001b[0m\u001b[1;33m)\u001b[0m\u001b[1;33m\u001b[0m\u001b[1;33m\u001b[0m\u001b[0m\n",
      "\u001b[1;31mTypeError\u001b[0m: 'dict' object is not callable"
     ]
    }
   ],
   "source": [
    "new_dictionary = dict(Height = '5ft', Country='Jamaica', Songs=['One Love','Misty Morning'])\n",
    "print(new_dictionary)\n"
   ]
  },
  {
   "cell_type": "markdown",
   "metadata": {},
   "source": [
    "## Sets\n",
    "\n",
    "+ Unordered lists\n",
    "+ Just collection of entities\n",
    "+ Sets are a good way to get the unique elements out of a collection \n",
    "+ To find common elements in various collections. \n",
    "+ Using sets is quick and can help solve tasks requiring deduplication."
   ]
  },
  {
   "cell_type": "code",
   "execution_count": 112,
   "metadata": {},
   "outputs": [
    {
     "name": "stdout",
     "output_type": "stream",
     "text": [
      "[10, 56, 44, 30, 5, 10, 44]\n"
     ]
    }
   ],
   "source": [
    "virat_list = [10,56,44,30,5,10,44]\n",
    "print(virat_list)"
   ]
  },
  {
   "cell_type": "code",
   "execution_count": 113,
   "metadata": {},
   "outputs": [],
   "source": [
    "#Removes duplictes and sort \n",
    "virat_set = set(virat_list)"
   ]
  },
  {
   "cell_type": "code",
   "execution_count": 115,
   "metadata": {},
   "outputs": [
    {
     "name": "stdout",
     "output_type": "stream",
     "text": [
      "{5, 10, 44, 56, 30}\n",
      "<class 'set'>\n"
     ]
    }
   ],
   "source": [
    "print(virat_set)\n",
    "print(type(virat_set))"
   ]
  },
  {
   "cell_type": "code",
   "execution_count": 116,
   "metadata": {},
   "outputs": [],
   "source": [
    "rohit_list = [55,44,5,5,10]"
   ]
  },
  {
   "cell_type": "code",
   "execution_count": 117,
   "metadata": {},
   "outputs": [
    {
     "name": "stdout",
     "output_type": "stream",
     "text": [
      "{10, 44, 5, 55}\n"
     ]
    }
   ],
   "source": [
    "rohit_set = set(rohit_list)\n",
    "print(rohit_set)"
   ]
  },
  {
   "cell_type": "code",
   "execution_count": 118,
   "metadata": {},
   "outputs": [
    {
     "name": "stdout",
     "output_type": "stream",
     "text": [
      "{10, 44, 5}\n"
     ]
    }
   ],
   "source": [
    "print(virat_set.intersection(rohit_set))"
   ]
  },
  {
   "cell_type": "code",
   "execution_count": 119,
   "metadata": {},
   "outputs": [
    {
     "name": "stdout",
     "output_type": "stream",
     "text": [
      "{5, 10, 44, 55, 56, 30}\n"
     ]
    }
   ],
   "source": [
    "print(virat_set.union(rohit_set))"
   ]
  },
  {
   "cell_type": "code",
   "execution_count": 120,
   "metadata": {},
   "outputs": [
    {
     "name": "stdout",
     "output_type": "stream",
     "text": [
      "{56, 30}\n"
     ]
    }
   ],
   "source": [
    "print(virat_set.difference(rohit_set))"
   ]
  },
  {
   "cell_type": "code",
   "execution_count": null,
   "metadata": {},
   "outputs": [],
   "source": []
  }
 ],
 "metadata": {
  "kernelspec": {
   "display_name": "Python 3",
   "language": "python",
   "name": "python3"
  },
  "language_info": {
   "codemirror_mode": {
    "name": "ipython",
    "version": 3
   },
   "file_extension": ".py",
   "mimetype": "text/x-python",
   "name": "python",
   "nbconvert_exporter": "python",
   "pygments_lexer": "ipython3",
   "version": "3.7.6"
  }
 },
 "nbformat": 4,
 "nbformat_minor": 4
}
